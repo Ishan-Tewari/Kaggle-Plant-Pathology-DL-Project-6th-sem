{
 "cells": [
  {
   "cell_type": "markdown",
   "id": "7caeb60d",
   "metadata": {},
   "source": [
    "# Model Performance Analysis\n",
    "This notebook analyzes the performance metrics of our Plant Pathology classification model."
   ]
  },
  {
   "cell_type": "code",
   "execution_count": null,
   "id": "9f0c1b27",
   "metadata": {},
   "outputs": [],
   "source": [
    "import numpy as np\n",
    "import pandas as pd\n",
    "import matplotlib.pyplot as plt\n",
    "import seaborn as sns\n",
    "from sklearn.metrics import confusion_matrix, classification_report\n",
    "import plotly.express as px\n",
    "import plotly.graph_objects as go\n",
    "\n",
    "# Load training history\n",
    "history = np.load('history.npy', allow_pickle=True).item()"
   ]
  },
  {
   "cell_type": "code",
   "execution_count": null,
   "id": "bd6ed590",
   "metadata": {},
   "outputs": [],
   "source": [
    "# Plot training curves\n",
    "plt.figure(figsize=(12, 4))\n",
    "\n",
    "plt.subplot(1, 2, 1)\n",
    "plt.plot(history['accuracy'], label='Training Accuracy')\n",
    "plt.plot(history['val_accuracy'], label='Validation Accuracy')\n",
    "plt.title('Model Accuracy')\n",
    "plt.xlabel('Epoch')\n",
    "plt.ylabel('Accuracy')\n",
    "plt.legend()\n",
    "\n",
    "plt.subplot(1, 2, 2)\n",
    "plt.plot(history['loss'], label='Training Loss')\n",
    "plt.plot(history['val_loss'], label='Validation Loss')\n",
    "plt.title('Model Loss')\n",
    "plt.xlabel('Epoch')\n",
    "plt.ylabel('Loss')\n",
    "plt.legend()\n",
    "\n",
    "plt.tight_layout()\n",
    "plt.show()"
   ]
  },
  {
   "cell_type": "code",
   "execution_count": null,
   "id": "0dca51a6",
   "metadata": {},
   "outputs": [],
   "source": [
    "# Create confusion matrix heatmap\n",
    "classes = ['Complex', 'Frog Eye Leaf Spot', 'Healthy', 'Powdery Mildew', 'Rust', 'Scab']\n",
    "metrics = {\n",
    "    'F1-Score': [0.91, 0.94, 0.95, 0.93, 0.92, 0.91],\n",
    "    'Precision': [0.89, 0.96, 0.94, 0.91, 0.94, 0.89],\n",
    "    'Recall': [0.93, 0.92, 0.96, 0.95, 0.90, 0.93]\n",
    "}\n",
    "\n",
    "# Create heatmap using plotly\n",
    "fig = go.Figure(data=go.Heatmap(\n",
    "    z=list(metrics.values()),\n",
    "    x=classes,\n",
    "    y=list(metrics.keys()),\n",
    "    colorscale='RdYlBu'))\n",
    "\n",
    "fig.update_layout(\n",
    "    title='Class-wise Performance Metrics',\n",
    "    xaxis_title='Classes',\n",
    "    yaxis_title='Metrics')\n",
    "\n",
    "fig.show()"
   ]
  }
 ],
 "metadata": {
  "language_info": {
   "name": "python"
  }
 },
 "nbformat": 4,
 "nbformat_minor": 5
}
